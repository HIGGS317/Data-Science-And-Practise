{
 "cells": [
  {
   "cell_type": "markdown",
   "id": "915c2dfa",
   "metadata": {},
   "source": [
    "### This Notebook has got two parts. \n",
    "### You may want to work on the Part I first, which is at the bottom of this page. \n",
    "### Then come back to the Part II  in the top."
   ]
  },
  {
   "cell_type": "markdown",
   "id": "deb82a08",
   "metadata": {},
   "source": [
    "# Part II Problem Exercises"
   ]
  },
  {
   "cell_type": "markdown",
   "id": "246caaa3",
   "metadata": {},
   "source": [
    "## Exercise 1, with List\n",
    "Create a list called `years_list`, starting with the year of your birth, and each year thereafter until the year of your fifth birthday. For example, if you were born in 1980, the list would be `years_list = [1980, 1981, 1982, 1983, 1984, 1985]`.   ((We are NOT going to check if your year of birth in this exercise is matching with your true records.))\n",
    "\n",
    "In which year in `years_list` was your third birthday? Remember, you were 0 years of age for your first year."
   ]
  },
  {
   "cell_type": "code",
   "execution_count": 75,
   "id": "b9083d42",
   "metadata": {},
   "outputs": [
    {
     "data": {
      "text/plain": [
       "2006"
      ]
     },
     "execution_count": 75,
     "metadata": {},
     "output_type": "execute_result"
    }
   ],
   "source": [
    "years_list = [2003,2004,2005,2006,2007,2008]\n",
    "\n",
    "years_list[3]"
   ]
  },
  {
   "cell_type": "markdown",
   "id": "ea29c84e",
   "metadata": {},
   "source": [
    "### Notes on Lists\n",
    "\n",
    "A list is a sequence of elements ordered by their position. Duplicates are allowed. Lists provide high-performance indexed access. Since the list is a sequential data type, it possesses all the previously described operators for sequences. In addition, the following indexed, 0-based accesses and operations can be performed on lists:\n",
    "\n",
    "`pop(i)` returns the ith element of the list and removes it from the list. By default (i. e., without specifying the index), the first element is returned.\n",
    "\n",
    "`list[i] = element` replaces the element at position i with the passed element.\n",
    "\n",
    "`append(element)` appends the element to the end of the list.\n",
    "\n",
    "`insert(i, element)` inserts the element at index i in the list.\n",
    "\n",
    "`extend(other_list)` appends the elements of other_list to the end of the list.\n",
    "\n",
    "`count(value)` counts how many times the value value occurs in the list.\n",
    "\n",
    "`index(value)` returns the index where the value value first occurs in the list.\n",
    "\n",
    "`remove(value)` removes the element with the value value from the list. Only the first one will be deleted if multiple elements with this value exist. If there is no such value, a ValueError is raised.\n",
    "\n",
    "`reverse()` reverses the order of the elements in the list.\n",
    "\n",
    "`sort()` sorts the list in ascending order. An inverse (descending) sort is obtained with sort(reverse=True).\n",
    "\n",
    "A list is a sequence of elements ordered by their position. Duplicates are allowed. Lists provide high-performance indexed access. Since the list is a sequential data type, it possesses all theoperators for sequences. In addition, 0-based accesses and operations can be performed on lists.\n"
   ]
  },
  {
   "cell_type": "markdown",
   "id": "662beb47",
   "metadata": {},
   "source": [
    "## Exercise 2, with List methods\n",
    "Now create two lists, then add few elements, remove some elements in one of the lists, then `append` one list with another list, `reverse` the list and demonstrate the use of these methods in the lists.\n",
    "For example,\n",
    "\n",
    "`numbers = [1, 2, 3, 4]`\n",
    "\n",
    "`names = [\"Peter\", \"Tim\", \"Mike\", \"Tom\", \"Mike\"]`\n",
    "\n",
    "`names.append(\"Tom\")`\n",
    "\n",
    "Create such lists, experiment with these methods and print them."
   ]
  },
  {
   "cell_type": "code",
   "execution_count": 85,
   "id": "95c6f5ec",
   "metadata": {},
   "outputs": [
    {
     "name": "stdout",
     "output_type": "stream",
     "text": [
      "2\n",
      "2\n",
      "None\n"
     ]
    }
   ],
   "source": [
    "numbers = [1, 2, 3, 4]\n",
    "\n",
    "names = [\"Peter\", \"Tim\", \"Mike\", \"Tom\", \"Mike\"]\n",
    "\n",
    "names.append(\"Tom\")\n",
    "print(numbers.pop(1))\n",
    "print(names.count(\"Tom\"))\n",
    "numbers.sort()\n",
    "new = numbers.extend(names)\n",
    "print(new)\n"
   ]
  },
  {
   "cell_type": "markdown",
   "id": "f7eebc90",
   "metadata": {},
   "source": [
    "## Exercise 3, with Sets\n",
    "Find the common elements of two lists, A and B, and return them as a set using 'intersection' method\n",
    "\n",
    "Examples\n",
    "\n",
    "list1 = [1, 2, 4, 7, 8] \n",
    "\n",
    "list2 = [2, 3, 7, 9] \n",
    "\n",
    "result = {2, 7}\n"
   ]
  },
  {
   "cell_type": "code",
   "execution_count": 91,
   "id": "3a37c651",
   "metadata": {},
   "outputs": [
    {
     "name": "stdout",
     "output_type": "stream",
     "text": [
      "result = {2, 7} \n"
     ]
    }
   ],
   "source": [
    "list1 = set([1,2,4,7,8])\n",
    "list2 = set([2,3,7,9])\n",
    "result = list1.intersection(list2)\n",
    "print(f\"result = {result} \")\n"
   ]
  },
  {
   "cell_type": "markdown",
   "id": "4c2d1c6e",
   "metadata": {},
   "source": [
    "## Exercise 3: Create Dictionary\n",
    "Define a dict, `menu`, that contains the items and prices in rupees on a restaurant menu\n",
    "\n",
    "- sandwich is 45\n",
    "- coffee is 22\n",
    "- juice is 50\n",
    "- cake is 63"
   ]
  },
  {
   "cell_type": "code",
   "execution_count": 92,
   "id": "664b96e3",
   "metadata": {},
   "outputs": [],
   "source": [
    "menu = {'samdwich':45,'coffee':22,'juice':50,'cake':63}"
   ]
  },
  {
   "cell_type": "markdown",
   "id": "e93283fd",
   "metadata": {},
   "source": [
    "## Exercise 4: Odds and evens\n",
    "\n",
    "1. Define two empty lists, `odds` and `evens`.\n",
    "2. Ask the user, repeatedly, to enter a number.\n",
    "     - If they enter an empty string, exit the loop\n",
    "     - If they enter a non-numeric string, scold them and try again\n",
    "     - Turn the user's input into an integer, and check if it's odd or even. If it's odd, add it to `odds`. If it's even, add it to `evens`.\n",
    "3. After the loop, print both `odds` and `evens`.  "
   ]
  },
  {
   "cell_type": "code",
   "execution_count": 94,
   "id": "a44796b2",
   "metadata": {},
   "outputs": [
    {
     "name": "stdout",
     "output_type": "stream",
     "text": [
      "Odds = [5]\n",
      "evens = [6]\n"
     ]
    }
   ],
   "source": [
    "odds = []\n",
    "evens = []\n",
    "while True:\n",
    "    number =  input(\"Enter a number\")\n",
    "    if number ==\"\":\n",
    "        break\n",
    "    try:\n",
    "        number = int(number)\n",
    "        if number % 2 == 0 :\n",
    "            evens.append(number)\n",
    "        else :\n",
    "            odds.append(number)\n",
    "    except ValueError:\n",
    "        print(\"That is not a number\")\n",
    "\n",
    "print(f\"Odds = {odds}\")\n",
    "print(f\"evens = {evens}\")\n",
    "\n"
   ]
  },
  {
   "cell_type": "markdown",
   "id": "68f24b79",
   "metadata": {},
   "source": [
    "## Exercise 5: Vowels, digits, and others\n",
    "\n",
    "1. Define a `counts` dict with three keys: `vowels`, `digits`, and `others`.  All three should have the value 0.\n",
    "2. Ask the user, repeatedly, to enter a string.\n",
    "    - If they enter an empty string, stop asking, and print `counts`.\n",
    "3. Go through each character in the entered string, and check:\n",
    "    - Is it a vowel? If so, add 1 to `counts['vowels']`\n",
    "    - Is it a digit? If so, add 1 to `counts['digits']`\n",
    "    - If neither, add 1 to `counts['others']`.\n",
    "    \n",
    "Example:\n",
    "\n",
    "    Enter string: hello\n",
    "    Enter string: bye 123\n",
    "    Enter string: [ENTER]\n",
    "    {'vowels':3, 'digits':3, 'others':6}"
   ]
  },
  {
   "cell_type": "code",
   "execution_count": 103,
   "id": "7f2214b0",
   "metadata": {},
   "outputs": [
    {
     "name": "stdout",
     "output_type": "stream",
     "text": [
      "{'vowels': 2, 'digits': 4, 'others': 2}\n"
     ]
    }
   ],
   "source": [
    "count = {'vowels':0,'digits':0,'others':0}\n",
    "\n",
    "\n",
    "while True:\n",
    "\n",
    "    string = input(\"Enter a text\")\n",
    "    if string == \"\" :\n",
    "        break\n",
    "    else:\n",
    "        for i in string:\n",
    "            if i in ['a','e','i','o','u']:\n",
    "                count['vowels']+=1\n",
    "            elif i.isdigit():\n",
    "                count['digits']+=1\n",
    "\n",
    "            else:\n",
    "                count['others']+=1\n",
    "\n",
    "print(count)"
   ]
  },
  {
   "cell_type": "markdown",
   "id": "54738c92",
   "metadata": {},
   "source": [
    "# Part I Practice Exercises\n",
    "\n",
    "### To make things easier, first work on the Practice Exercises given in the pdf file and enter them in cells below."
   ]
  },
  {
   "cell_type": "markdown",
   "id": "080f4931",
   "metadata": {},
   "source": [
    "## Excercise 1"
   ]
  },
  {
   "cell_type": "code",
   "execution_count": 1,
   "id": "fda589fb",
   "metadata": {},
   "outputs": [
    {
     "name": "stdout",
     "output_type": "stream",
     "text": [
      "['bread', 'milk', 'eggs']\n"
     ]
    }
   ],
   "source": [
    "shopping = ['bread','milk','eggs']\n",
    "print(shopping)"
   ]
  },
  {
   "cell_type": "code",
   "execution_count": 2,
   "id": "bf8292cf",
   "metadata": {},
   "outputs": [
    {
     "name": "stdout",
     "output_type": "stream",
     "text": [
      "bread\n",
      "milk\n",
      "eggs\n"
     ]
    }
   ],
   "source": [
    "for item in shopping:\n",
    "    print(item)"
   ]
  },
  {
   "cell_type": "code",
   "execution_count": 3,
   "id": "767e869d",
   "metadata": {},
   "outputs": [
    {
     "name": "stdout",
     "output_type": "stream",
     "text": [
      "[365, 'days', True]\n"
     ]
    }
   ],
   "source": [
    "mixed = [365,\"days\",True]\n",
    "print(mixed)"
   ]
  },
  {
   "cell_type": "markdown",
   "id": "c5339f65",
   "metadata": {},
   "source": [
    "## Excercise 2"
   ]
  },
  {
   "cell_type": "code",
   "execution_count": 4,
   "id": "df8e1db3",
   "metadata": {},
   "outputs": [
    {
     "data": {
      "text/plain": [
       "3"
      ]
     },
     "execution_count": 4,
     "metadata": {},
     "output_type": "execute_result"
    }
   ],
   "source": [
    "len(shopping)"
   ]
  },
  {
   "cell_type": "code",
   "execution_count": 7,
   "id": "3f7ba376",
   "metadata": {},
   "outputs": [
    {
     "name": "stdout",
     "output_type": "stream",
     "text": [
      "[1, 2, 3, 4, 5, 6]\n"
     ]
    }
   ],
   "source": [
    "list1 = [1,2,3]\n",
    "list2 = [4,5,6]\n",
    "final_list = list1 + list2\n",
    "print(final_list)"
   ]
  },
  {
   "cell_type": "code",
   "execution_count": 9,
   "id": "40580859",
   "metadata": {},
   "outputs": [
    {
     "data": {
      "text/plain": [
       "['iiserb', 'iiserb', 'iiserb']"
      ]
     },
     "execution_count": 9,
     "metadata": {},
     "output_type": "execute_result"
    }
   ],
   "source": [
    "list3 = ['iiserb']\n",
    "list3*3"
   ]
  },
  {
   "cell_type": "markdown",
   "id": "e8137214",
   "metadata": {},
   "source": [
    "## Excercise 3"
   ]
  },
  {
   "cell_type": "code",
   "execution_count": 10,
   "id": "45821cb5",
   "metadata": {},
   "outputs": [
    {
     "data": {
      "text/plain": [
       "'milk'"
      ]
     },
     "execution_count": 10,
     "metadata": {},
     "output_type": "execute_result"
    }
   ],
   "source": [
    "shopping[1]"
   ]
  },
  {
   "cell_type": "code",
   "execution_count": 11,
   "id": "d24e7469",
   "metadata": {},
   "outputs": [
    {
     "data": {
      "text/plain": [
       "['bread', 'banana', 'eggs']"
      ]
     },
     "execution_count": 11,
     "metadata": {},
     "output_type": "execute_result"
    }
   ],
   "source": [
    "shopping[1] = 'banana'\n",
    "shopping"
   ]
  },
  {
   "cell_type": "code",
   "execution_count": 12,
   "id": "6edbbd43",
   "metadata": {},
   "outputs": [
    {
     "data": {
      "text/plain": [
       "'eggs'"
      ]
     },
     "execution_count": 12,
     "metadata": {},
     "output_type": "execute_result"
    }
   ],
   "source": [
    "shopping[-1]"
   ]
  },
  {
   "cell_type": "code",
   "execution_count": 14,
   "id": "706e9f3c",
   "metadata": {},
   "outputs": [
    {
     "name": "stdout",
     "output_type": "stream",
     "text": [
      "['bread', 'banana']\n",
      "['bread', 'banana', 'eggs']\n",
      "['banana', 'eggs']\n"
     ]
    }
   ],
   "source": [
    "print(shopping[0:2])\n",
    "print(shopping[0:3])\n",
    "print(shopping[1:])"
   ]
  },
  {
   "cell_type": "markdown",
   "id": "c4dc16fb",
   "metadata": {},
   "source": [
    "## Excercise 4"
   ]
  },
  {
   "cell_type": "code",
   "execution_count": 15,
   "id": "93249f0b",
   "metadata": {},
   "outputs": [
    {
     "name": "stdout",
     "output_type": "stream",
     "text": [
      "['bread', 'milk', 'eggs', 'apple']\n"
     ]
    }
   ],
   "source": [
    "shopping = [\"bread\",\"milk\", \"eggs\"]\n",
    "shopping.append(\"apple\")\n",
    "print(shopping)"
   ]
  },
  {
   "cell_type": "code",
   "execution_count": 18,
   "id": "c723e8cb",
   "metadata": {},
   "outputs": [
    {
     "data": {
      "text/plain": [
       "[['bread', 'eggs', 'apple']]"
      ]
     },
     "execution_count": 18,
     "metadata": {},
     "output_type": "execute_result"
    }
   ],
   "source": [
    "shopping = []\n",
    "shopping.append([\"bread\",\"eggs\",\"apple\"])\n",
    "shopping"
   ]
  },
  {
   "cell_type": "code",
   "execution_count": 20,
   "id": "50092331",
   "metadata": {},
   "outputs": [
    {
     "data": {
      "text/plain": [
       "[['bread', 'eggs', 'apple'], 'ham']"
      ]
     },
     "execution_count": 20,
     "metadata": {},
     "output_type": "execute_result"
    }
   ],
   "source": [
    "shopping.insert(2,'ham')\n",
    "shopping"
   ]
  },
  {
   "cell_type": "markdown",
   "id": "795651bb",
   "metadata": {},
   "source": [
    "## Excercise 5"
   ]
  },
  {
   "cell_type": "code",
   "execution_count": 27,
   "id": "94921086",
   "metadata": {},
   "outputs": [
    {
     "name": "stdout",
     "output_type": "stream",
     "text": [
      "9.25\n",
      "{'title': 'The Godfather', 'director': 'Francis Ford Coppola', 'year': 1972, 'rating': 9.2, 'actors': ['Marlon Brando', 'Al Pacino', 'JamesCaan'], 'other_details': {'runtime': 175, 'language': 'English'}}\n"
     ]
    }
   ],
   "source": [
    "movie = {\n",
    "\"title\": \"The Godfather\",\n",
    "\"director\": \"Francis Ford Coppola\",\n",
    "\"year\": 1972,\n",
    "\"rating\": 9.2\n",
    "}\n",
    "\n",
    "movie['year']\n",
    "movie['rating'] = (movie['rating']+9.3)/2\n",
    "print(movie['rating'])\n",
    "\n",
    "movie = {}\n",
    "movie['title'] = \"The Godfather\"\n",
    "movie['director'] = \"Francis Ford Coppola\"\n",
    "movie['year'] = 1972\n",
    "movie['rating'] = 9.2\n",
    "\n",
    "movie['actors'] = ['Marlon Brando', 'Al Pacino', 'JamesCaan']\n",
    "\n",
    "movie['other_details'] = {\n",
    "'runtime': 175,\n",
    "'language': 'English'\n",
    "}\n",
    "\n",
    "print(movie)\n"
   ]
  },
  {
   "cell_type": "markdown",
   "id": "cca9bef1",
   "metadata": {},
   "source": [
    "## Excercise 5"
   ]
  },
  {
   "cell_type": "code",
   "execution_count": 36,
   "id": "0d813d84",
   "metadata": {},
   "outputs": [
    {
     "data": {
      "text/plain": [
       "{'name': 'John Mckee', 'age': 38, 'department': 'Sales'}"
      ]
     },
     "execution_count": 36,
     "metadata": {},
     "output_type": "execute_result"
    }
   ],
   "source": [
    "employess = [0,1,2]\n",
    "\n",
    "employess[0]= {\"name\":'John Mckee',\"age\":38,\"department\":'Sales'}\n",
    "employess[1]= {\"name\":'Lisa Crawford',\"age\":29,\"department\":'Marketing'}\n",
    "employess[2]= {\"name\":'Sujan Patel',\"age\":33,\"department\":'HR'}\n",
    "employess[0]"
   ]
  },
  {
   "cell_type": "code",
   "execution_count": 43,
   "id": "0f3ee1d3",
   "metadata": {},
   "outputs": [
    {
     "name": "stdout",
     "output_type": "stream",
     "text": [
      "name : John Mckee\n",
      "age : 38\n",
      "department : Sales\n",
      "--------------------\n",
      "name : Lisa Crawford\n",
      "age : 29\n",
      "department : Marketing\n",
      "--------------------\n",
      "name : Sujan Patel\n",
      "age : 33\n",
      "department : HR\n",
      "--------------------\n"
     ]
    }
   ],
   "source": [
    "for i in range(len(employess)):\n",
    "    for key,value in employess[i].items():\n",
    "        print(f\"{key} : {value}\")\n",
    "    print('-'*20)"
   ]
  },
  {
   "cell_type": "code",
   "execution_count": 57,
   "id": "f59d96a7",
   "metadata": {},
   "outputs": [
    {
     "name": "stdout",
     "output_type": "stream",
     "text": [
      "name = Sujan Patel\n",
      "age = 33\n",
      "department = HR\n"
     ]
    }
   ],
   "source": [
    "for employee in employess:\n",
    "    if employee['name']=='Sujan Patel':\n",
    "        print(f\"name = {employee['name']}\")\n",
    "        print(f\"age = {employee['age']}\")\n",
    "        print(f\"department = {employee['department']}\")"
   ]
  },
  {
   "cell_type": "markdown",
   "id": "3dcd6d57",
   "metadata": {},
   "source": [
    "## Excercise 6"
   ]
  },
  {
   "cell_type": "code",
   "execution_count": 45,
   "id": "fcf6fdf4",
   "metadata": {},
   "outputs": [
    {
     "name": "stdout",
     "output_type": "stream",
     "text": [
      "dict_values([5, 3, 2])\n",
      "[5, 3, 2]\n"
     ]
    }
   ],
   "source": [
    "orders = {'apple':5, 'orange':3, 'banana':2}\n",
    "print(orders.values())\n",
    "print(list(orders.values()))"
   ]
  },
  {
   "cell_type": "code",
   "execution_count": 46,
   "id": "76088d71",
   "metadata": {},
   "outputs": [
    {
     "name": "stdout",
     "output_type": "stream",
     "text": [
      "['apple', 'orange', 'banana']\n"
     ]
    }
   ],
   "source": [
    "print(list(orders.keys()))"
   ]
  },
  {
   "cell_type": "code",
   "execution_count": 48,
   "id": "1a20dfe7",
   "metadata": {},
   "outputs": [
    {
     "name": "stdout",
     "output_type": "stream",
     "text": [
      "('apple', 5)\n",
      "('orange', 3)\n",
      "('banana', 2)\n"
     ]
    }
   ],
   "source": [
    "for tuple in list(orders.items()):\n",
    "    print(tuple)"
   ]
  },
  {
   "cell_type": "markdown",
   "id": "69afc3ac",
   "metadata": {},
   "source": [
    "## Excercise 7"
   ]
  },
  {
   "cell_type": "code",
   "execution_count": 59,
   "id": "f0d18d59",
   "metadata": {},
   "outputs": [
    {
     "data": {
      "text/plain": [
       "3"
      ]
     },
     "execution_count": 59,
     "metadata": {},
     "output_type": "execute_result"
    }
   ],
   "source": [
    "t = ('bread', 'milk', 'eggs')\n",
    "len(t)"
   ]
  },
  {
   "cell_type": "code",
   "execution_count": 60,
   "id": "00b748eb",
   "metadata": {},
   "outputs": [
    {
     "ename": "AttributeError",
     "evalue": "'tuple' object has no attribute 'append'",
     "output_type": "error",
     "traceback": [
      "\u001b[0;31m---------------------------------------------------------------------------\u001b[0m",
      "\u001b[0;31mAttributeError\u001b[0m                            Traceback (most recent call last)",
      "\u001b[1;32m/home/dt/Downloads/20Aug2022CodeLabExercise.ipynb Cell 40\u001b[0m in \u001b[0;36m<cell line: 1>\u001b[0;34m()\u001b[0m\n\u001b[0;32m----> <a href='vscode-notebook-cell:/home/dt/Downloads/20Aug2022CodeLabExercise.ipynb#X54sZmlsZQ%3D%3D?line=0'>1</a>\u001b[0m t\u001b[39m.\u001b[39;49mappend(\u001b[39m'\u001b[39m\u001b[39mapple\u001b[39m\u001b[39m'\u001b[39m)\n\u001b[1;32m      <a href='vscode-notebook-cell:/home/dt/Downloads/20Aug2022CodeLabExercise.ipynb#X54sZmlsZQ%3D%3D?line=1'>2</a>\u001b[0m t[\u001b[39m2\u001b[39m] \u001b[39m=\u001b[39m \u001b[39m'\u001b[39m\u001b[39mapple\u001b[39m\u001b[39m'\u001b[39m\n",
      "\u001b[0;31mAttributeError\u001b[0m: 'tuple' object has no attribute 'append'"
     ]
    }
   ],
   "source": [
    "t.append('apple')\n",
    "t[2] = 'apple'"
   ]
  },
  {
   "cell_type": "code",
   "execution_count": 61,
   "id": "f3bbf4d3",
   "metadata": {},
   "outputs": [
    {
     "name": "stdout",
     "output_type": "stream",
     "text": [
      "('bread', 'milk', 'eggs', 'apple', 'orange')\n",
      "('bread', 'milk', 'eggs')\n"
     ]
    }
   ],
   "source": [
    "print(t + ('apple', 'orange'))\n",
    "print(t)"
   ]
  },
  {
   "cell_type": "code",
   "execution_count": 62,
   "id": "7cb7da49",
   "metadata": {},
   "outputs": [
    {
     "name": "stdout",
     "output_type": "stream",
     "text": [
      "('apple', True, 3)\n",
      "(('apple', 3), ('orange', 2), ('banana', 5))\n"
     ]
    }
   ],
   "source": [
    "t_mixed = 'apple', True, 3\n",
    "print(t_mixed)\n",
    "t_shopping = ('apple',3), ('orange',2), ('banana',5)\n",
    "print(t_shopping)"
   ]
  },
  {
   "cell_type": "markdown",
   "id": "492d93cf",
   "metadata": {},
   "source": [
    "## Excercise 8"
   ]
  },
  {
   "cell_type": "code",
   "execution_count": 63,
   "id": "ae6c3447",
   "metadata": {},
   "outputs": [
    {
     "name": "stdout",
     "output_type": "stream",
     "text": [
      "{1, 2, 3, 4, 5, 6}\n",
      "{1, 2, 3, 4, 5, 6}\n",
      "{1, 2, 3, 4, 5, 6}\n"
     ]
    }
   ],
   "source": [
    "s1 = set([1,2,3,4,5,6])\n",
    "print(s1)\n",
    "s2 = set([1,2,2,3,4,4,5,6,6])\n",
    "print(s2)\n",
    "s3 = set([3,4,5,6,6,6,1,1,2])\n",
    "print(s3)"
   ]
  },
  {
   "cell_type": "code",
   "execution_count": 64,
   "id": "80def847",
   "metadata": {},
   "outputs": [
    {
     "name": "stdout",
     "output_type": "stream",
     "text": [
      "{'apple', 'banana', 'orange'}\n"
     ]
    }
   ],
   "source": [
    "s4 = {\"apple\", \"orange\", \"banana\"}\n",
    "print(s4)"
   ]
  },
  {
   "cell_type": "code",
   "execution_count": 65,
   "id": "863d233a",
   "metadata": {},
   "outputs": [
    {
     "name": "stdout",
     "output_type": "stream",
     "text": [
      "{'apple', 'pineapple', 'banana', 'orange'}\n"
     ]
    }
   ],
   "source": [
    "s4.add('pineapple')\n",
    "print(s4)"
   ]
  },
  {
   "cell_type": "markdown",
   "id": "bc6dde78",
   "metadata": {},
   "source": [
    "## Excercise 9"
   ]
  },
  {
   "cell_type": "code",
   "execution_count": 66,
   "id": "eaacdce3",
   "metadata": {},
   "outputs": [],
   "source": [
    "s5 = {1,2,3,4}\n",
    "s6 = {3,4,5,6}"
   ]
  },
  {
   "cell_type": "code",
   "execution_count": 67,
   "id": "8374f3a9",
   "metadata": {},
   "outputs": [
    {
     "name": "stdout",
     "output_type": "stream",
     "text": [
      "{1, 2, 3, 4, 5, 6}\n",
      "{1, 2, 3, 4, 5, 6}\n"
     ]
    }
   ],
   "source": [
    "print(s5 | s6)\n",
    "print(s5.union(s6))"
   ]
  },
  {
   "cell_type": "code",
   "execution_count": 68,
   "id": "0bb0f6d0",
   "metadata": {},
   "outputs": [
    {
     "name": "stdout",
     "output_type": "stream",
     "text": [
      "{3, 4}\n",
      "{3, 4}\n"
     ]
    }
   ],
   "source": [
    "print(s5 & s6)\n",
    "print(s5.intersection(s6))"
   ]
  },
  {
   "cell_type": "code",
   "execution_count": 69,
   "id": "f2d41f58",
   "metadata": {},
   "outputs": [
    {
     "name": "stdout",
     "output_type": "stream",
     "text": [
      "{1, 2}\n",
      "{1, 2}\n"
     ]
    }
   ],
   "source": [
    "print(s5 - s6)\n",
    "print(s5.difference(s6))"
   ]
  },
  {
   "cell_type": "code",
   "execution_count": 71,
   "id": "75d93e57",
   "metadata": {},
   "outputs": [
    {
     "name": "stdout",
     "output_type": "stream",
     "text": [
      "False\n",
      "False\n",
      "True\n",
      "True\n"
     ]
    }
   ],
   "source": [
    "print(s5 <= s6)\n",
    "print(s5.issubset(s6))\n",
    "s7 = {1,2,3}\n",
    "s8 = {1,2,3,4,5}\n",
    "print(s7 <= s8)\n",
    "print(s7.issubset(s8))"
   ]
  },
  {
   "cell_type": "code",
   "execution_count": 72,
   "id": "ad880512",
   "metadata": {},
   "outputs": [
    {
     "name": "stdout",
     "output_type": "stream",
     "text": [
      "True\n",
      "False\n",
      "False\n"
     ]
    }
   ],
   "source": [
    "print(s7 < s8)\n",
    "s9 = {1,2,3}\n",
    "s10 = {1,2,3}\n",
    "print(s9 < s10)\n",
    "print(s9 < s9)"
   ]
  },
  {
   "cell_type": "code",
   "execution_count": 73,
   "id": "94c0a33a",
   "metadata": {},
   "outputs": [
    {
     "name": "stdout",
     "output_type": "stream",
     "text": [
      "True\n",
      "True\n",
      "True\n",
      "False\n"
     ]
    }
   ],
   "source": [
    "print(s8 >= s7)\n",
    "print(s8.issuperset(s7))\n",
    "print(s8 > s7)\n",
    "print(s8 > s8)"
   ]
  },
  {
   "cell_type": "code",
   "execution_count": null,
   "id": "85027642",
   "metadata": {},
   "outputs": [],
   "source": []
  }
 ],
 "metadata": {
  "kernelspec": {
   "display_name": "Python 3.9.12 ('base')",
   "language": "python",
   "name": "python3"
  },
  "language_info": {
   "codemirror_mode": {
    "name": "ipython",
    "version": 3
   },
   "file_extension": ".py",
   "mimetype": "text/x-python",
   "name": "python",
   "nbconvert_exporter": "python",
   "pygments_lexer": "ipython3",
   "version": "3.9.12"
  },
  "vscode": {
   "interpreter": {
    "hash": "d9ed092cfeaff604a098ff2afb04d2ee50e9267317629f92888a63f6b243dd3a"
   }
  }
 },
 "nbformat": 4,
 "nbformat_minor": 5
}
