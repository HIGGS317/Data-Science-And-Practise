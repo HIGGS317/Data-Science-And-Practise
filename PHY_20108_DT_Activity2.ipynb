{
 "cells": [
  {
   "cell_type": "markdown",
   "id": "25de26f9",
   "metadata": {},
   "source": [
    "### This Notebook has got two parts. \n",
    "### You may want to work on the Part I first, which is at the bottom of this page. \n",
    "### Then come back to the Part II  in the top.\n"
   ]
  },
  {
   "cell_type": "markdown",
   "id": "bb197ec3",
   "metadata": {},
   "source": [
    "# Part II Problem Exercises"
   ]
  },
  {
   "cell_type": "markdown",
   "id": "b70f65ca",
   "metadata": {},
   "source": [
    "## `Exercise` : Vowel and others counter\n",
    "\n",
    "1. Define two variables, `vowels` and `others`, and set them both to be 0.\n",
    "2. Ask the user to enter a string (with `input`).  That is, get input from the user. (eg. happy independance day). Also remove leading/trailing whitespace (Hint, .strip(),  then assign\n",
    "3. Go through each character in the string, and check if it is a vowel.\n",
    "    - If so, then add 1 to `vowels`\n",
    "    - If not, then add 1 to `others`\n",
    "4. When the loop is done, print the values of `vowels` and `others`.    "
   ]
  },
  {
   "cell_type": "code",
   "execution_count": 63,
   "id": "b5b981e7",
   "metadata": {},
   "outputs": [
    {
     "name": "stdout",
     "output_type": "stream",
     "text": [
      "Vowels = 2\n",
      " others = 6\n"
     ]
    }
   ],
   "source": [
    "# YOUR CODE HERE\n",
    "\n",
    "vowel = 0\n",
    "others = 0\n",
    "\n",
    "a  = input(\"Enter a string\" )\n",
    "\n",
    "string = a.strip()\n",
    "string = string.lower()\n",
    "\n",
    "for i in string:\n",
    "    if i in {'a','e','i','o','u'}:\n",
    "        vowel+=1\n",
    "    else:\n",
    "        others+=1\n",
    "\n",
    "print(f'Vowels = {vowel}\\n others = {others}')"
   ]
  },
  {
   "cell_type": "markdown",
   "id": "27967ead",
   "metadata": {},
   "source": [
    "## `Exercise`: for loop\n",
    "Print \"Happy Independance Day\" 5 times, using for loop and range function\n"
   ]
  },
  {
   "cell_type": "code",
   "execution_count": 11,
   "id": "4dc53967",
   "metadata": {},
   "outputs": [
    {
     "name": "stdout",
     "output_type": "stream",
     "text": [
      "Happy Independance Day\n",
      "Happy Independance Day\n",
      "Happy Independance Day\n",
      "Happy Independance Day\n",
      "Happy Independance Day\n"
     ]
    }
   ],
   "source": [
    "# this works -- nothing technically wrong with it, but try the same output using for loop\n",
    "# also note that range returns an iterable object that runs a given number of times\n",
    "\n",
    "print('Happy Independance Day')\n",
    "print('Happy Independance Day')\n",
    "print('Happy Independance Day')\n",
    "print('Happy Independance Day')\n",
    "print('Happy Independance Day')"
   ]
  },
  {
   "cell_type": "code",
   "execution_count": 65,
   "id": "9f10f8cd",
   "metadata": {},
   "outputs": [
    {
     "name": "stdout",
     "output_type": "stream",
     "text": [
      "Happy Independence Day\n",
      "Happy Independence Day\n",
      "Happy Independence Day\n",
      "Happy Independence Day\n",
      "Happy Independence Day\n"
     ]
    }
   ],
   "source": [
    "# YOUR CODE using FOR loop and range function HERE ---\n",
    "for i in range(5):\n",
    "    print('Happy Independence Day')"
   ]
  },
  {
   "cell_type": "markdown",
   "id": "9514b128",
   "metadata": {},
   "source": [
    "#### NOTES\n",
    "##### Stopping the loop early\n",
    "\n",
    "There are two ways to stop our `for` loop early:\n",
    "\n",
    "- We can exit from the loop completely, if we've accomplished our task. This is done with `break`.\n",
    "- We can exit from the current iteration, if it's irrelevant or unnecessary, continuing with the next iteration.  We do this with `continue`."
   ]
  },
  {
   "cell_type": "markdown",
   "id": "3f5e6cae",
   "metadata": {},
   "source": [
    "## `Exercise`\n",
    "##### assign a string as s ='independance', use the for loop to print `i n d e e n d a n c e` (skip the character p) "
   ]
  },
  {
   "cell_type": "code",
   "execution_count": 66,
   "id": "cb7adad2",
   "metadata": {},
   "outputs": [
    {
     "name": "stdout",
     "output_type": "stream",
     "text": [
      "i\n",
      "n\n",
      "d\n",
      "e\n",
      "e\n",
      "n\n",
      "d\n",
      "e\n",
      "n\n",
      "c\n",
      "e\n"
     ]
    }
   ],
   "source": [
    "# -- YOUR CODE HERE --\n",
    "\n",
    "s = 'independence'\n",
    "\n",
    "for i in s:\n",
    "    if i == 'p':\n",
    "        continue\n",
    "    else:\n",
    "        print(i)"
   ]
  },
  {
   "cell_type": "markdown",
   "id": "3f23b822",
   "metadata": {},
   "source": [
    "##### assign a string as s ='independance', use the for loop to print `i n d e`  (break the loop when it encounters p) "
   ]
  },
  {
   "cell_type": "code",
   "execution_count": 67,
   "id": "3e73030e",
   "metadata": {},
   "outputs": [
    {
     "name": "stdout",
     "output_type": "stream",
     "text": [
      "i\n",
      "n\n",
      "d\n",
      "e\n"
     ]
    }
   ],
   "source": [
    "# -- YOUR CODE HERE\n",
    "for i in s:\n",
    "    if i == 'p':\n",
    "        break\n",
    "    else:\n",
    "        print(i)"
   ]
  },
  {
   "cell_type": "markdown",
   "id": "cdd35fdc",
   "metadata": {},
   "source": [
    "## `Exercise` Name triangles\n",
    "\n",
    "1. Ask the user to enter their name, and assign to a variable, `name`.\n",
    "2. Print Independance in a triangle, with the first letter on the first line, the full name on the final line, and each line in between \"growing\" by one letter.\n",
    "\n",
    "Example:\n",
    "\n",
    "    Enter your name: Independance\n",
    "    I\n",
    "    In\n",
    "    Ind\n",
    "    Inde\n",
    "    Indep\n",
    "    Indepe\n",
    "    Indepen\n",
    "    Independ\n",
    "    Independa\n",
    "    Independan\n",
    "    Independanc\n",
    "    Independance\n",
    "    "
   ]
  },
  {
   "cell_type": "markdown",
   "id": "dfe42b2d",
   "metadata": {},
   "source": [
    "##### There is nothing wrong in the following code, but we want to use for loop and len function."
   ]
  },
  {
   "cell_type": "code",
   "execution_count": 8,
   "id": "8dd2fe2e",
   "metadata": {},
   "outputs": [
    {
     "name": "stdout",
     "output_type": "stream",
     "text": [
      "Enter your name: Independance\n",
      "I\n",
      "In\n",
      "Ind\n",
      "Inde\n",
      "Indep\n",
      "Indepe\n",
      "Indepen\n",
      "Independ\n",
      "Independa\n",
      "Independan\n",
      "Independanc\n",
      "Independance\n"
     ]
    }
   ],
   "source": [
    "name = input('Enter your name: ').strip()\n",
    "\n",
    "# what do I really want to print?  Nothing wrong in this technically, but we want you to write a code using for loop\n",
    "print(name[:1])\n",
    "print(name[:2])\n",
    "print(name[:3])\n",
    "print(name[:4])\n",
    "print(name[:5])\n",
    "print(name[:6])\n",
    "print(name[:7])\n",
    "print(name[:8])\n",
    "print(name[:9])\n",
    "print(name[:10])\n",
    "print(name[:11])\n",
    "print(name[:12])"
   ]
  },
  {
   "cell_type": "markdown",
   "id": "7b0b517e",
   "metadata": {},
   "source": [
    "Hints:\n",
    "1. Use `len` to get the length of a string\n",
    "2. Use `range` to run a `for` loop a particular number of times\n",
    "3. You can retrieve a \"slice\" from a string, where you specify the starting index and the ending index + 1 (e.g., `s[2:5]` or `s[:5]`)"
   ]
  },
  {
   "cell_type": "code",
   "execution_count": 70,
   "id": "c7070dfa",
   "metadata": {},
   "outputs": [
    {
     "name": "stdout",
     "output_type": "stream",
     "text": [
      "\n",
      "D\n",
      "Di\n",
      "Div\n",
      "Divy\n",
      "Divya\n",
      "Divyan\n",
      "Divyans\n",
      "Divyansh\n"
     ]
    }
   ],
   "source": [
    "name = input('Enter your name: ').strip()\n",
    "\n",
    "# -- YOUR CODE HERE --\n",
    "\n",
    "for i in range(len(name)+1):\n",
    "    print (name[:i])"
   ]
  },
  {
   "cell_type": "markdown",
   "id": "1b454e6f",
   "metadata": {},
   "source": [
    "# Notes\n",
    "### `while` loops\n",
    "\n",
    "`for` loops iterate over an existing data structure, one element at a time.  We'll get the first character, the second character, etc., until we get to the end.  We know how many times the loop will run.\n",
    "\n",
    "By constrast, `while` loops are for when we don't know how many times we'll want to iterate, but we do know under what conditions we want to stop.\n",
    "\n",
    "You can think of a `while` loop as an `if` statement that runs repeatedly until the condition is found to be `False`."
   ]
  },
  {
   "cell_type": "markdown",
   "id": "7f070ad2",
   "metadata": {},
   "source": [
    "## `Exercise`: using while loop, sum the numbers\n",
    "\n",
    "1. Ask the user to enter our goal number (i.e., what we want to reach), and assign this to `goal`.  (Remember to turn it into an integer!)\n",
    "2. Set `total` to be 0.\n",
    "3. Repeatedly ask the user to enter a number.\n",
    "    - If they enter something non-numeric, then scold them and let them try again\n",
    "    - If they enter something numeric, then add it to `total`, and print the current values of `goal` and `total`.\n",
    "4. Stop asking when the `total` is equal to or greater than `goal`.\n",
    "\n",
    "Example:\n",
    "\n",
    "    Enter goal: 100\n",
    "    Enter number: 20\n",
    "    Total is 20, goal is 100\n",
    "    Enter number: 30\n",
    "    Total is 50, goal is 100\n",
    "    Enter number: abc\n",
    "    abc is not numeric\n",
    "    Enter number: 40\n",
    "    Total is 90, goal is 100\n",
    "    Enter number:\n",
    "    Total is 130, goal is 100\n",
    "    Exiting\n",
    "    Done, with total of 130"
   ]
  },
  {
   "cell_type": "code",
   "execution_count": 80,
   "id": "b73df621",
   "metadata": {},
   "outputs": [
    {
     "name": "stdout",
     "output_type": "stream",
     "text": [
      "Done , with total of 15\n"
     ]
    }
   ],
   "source": [
    "# -- YOUR CODE HERE --\n",
    "\n",
    "goal = int(input(\"Enter the goal number :  \"))\n",
    "\n",
    "total = 0\n",
    "\n",
    "while total<goal:\n",
    "    a = int(input(\"Enter Number : \"))\n",
    "    \n",
    "    if type(a) != int:\n",
    "        print(f\"{a} is not numeric\")\n",
    "    total = total+a\n",
    "\n",
    "print(f'Done , with total of {total}')\n",
    "    \n",
    "\n"
   ]
  },
  {
   "cell_type": "markdown",
   "id": "01168297",
   "metadata": {},
   "source": [
    "# Part I Practice Exercises\n",
    "\n",
    "### To make things easier, first work on the Practice Exercises given in the pdf file and enter them in cells below."
   ]
  },
  {
   "cell_type": "markdown",
   "id": "9fa31f14",
   "metadata": {},
   "source": [
    "## Excercise 1"
   ]
  },
  {
   "cell_type": "code",
   "execution_count": 1,
   "id": "21e6da12",
   "metadata": {},
   "outputs": [
    {
     "data": {
      "text/plain": [
       "True"
      ]
     },
     "execution_count": 1,
     "metadata": {},
     "output_type": "execute_result"
    }
   ],
   "source": [
    "'a'<'c'"
   ]
  },
  {
   "cell_type": "code",
   "execution_count": 2,
   "id": "61af371e",
   "metadata": {},
   "outputs": [
    {
     "data": {
      "text/plain": [
       "False"
      ]
     },
     "execution_count": 2,
     "metadata": {},
     "output_type": "execute_result"
    }
   ],
   "source": [
    "'Bombay'>'Mumbai'"
   ]
  },
  {
   "cell_type": "markdown",
   "id": "5ab1d40a",
   "metadata": {},
   "source": [
    "## Excercise 2"
   ]
  },
  {
   "cell_type": "code",
   "execution_count": 3,
   "id": "5e26603a",
   "metadata": {},
   "outputs": [],
   "source": [
    "Bookstore = 'City Lights'"
   ]
  },
  {
   "cell_type": "code",
   "execution_count": 4,
   "id": "ac867306",
   "metadata": {},
   "outputs": [
    {
     "ename": "SyntaxError",
     "evalue": "EOL while scanning string literal (2747506218.py, line 1)",
     "output_type": "error",
     "traceback": [
      "\u001b[0;36m  Input \u001b[0;32mIn [4]\u001b[0;36m\u001b[0m\n\u001b[0;31m    bookstore = 'City Lights\"\u001b[0m\n\u001b[0m                             ^\u001b[0m\n\u001b[0;31mSyntaxError\u001b[0m\u001b[0;31m:\u001b[0m EOL while scanning string literal\n"
     ]
    }
   ],
   "source": [
    "bookstore = 'City Lights\""
   ]
  },
  {
   "cell_type": "code",
   "execution_count": 5,
   "id": "38d09696",
   "metadata": {},
   "outputs": [],
   "source": [
    "bookstore = \"Moe's\""
   ]
  },
  {
   "cell_type": "code",
   "execution_count": 6,
   "id": "2b23e2a4",
   "metadata": {},
   "outputs": [
    {
     "ename": "SyntaxError",
     "evalue": "invalid syntax (857763567.py, line 1)",
     "output_type": "error",
     "traceback": [
      "\u001b[0;36m  Input \u001b[0;32mIn [6]\u001b[0;36m\u001b[0m\n\u001b[0;31m    bookstore = 'Moe's'\u001b[0m\n\u001b[0m                     ^\u001b[0m\n\u001b[0;31mSyntaxError\u001b[0m\u001b[0;31m:\u001b[0m invalid syntax\n"
     ]
    }
   ],
   "source": [
    "bookstore = 'Moe's'"
   ]
  },
  {
   "cell_type": "markdown",
   "id": "5b72d094",
   "metadata": {},
   "source": [
    "## Excercise 3"
   ]
  },
  {
   "cell_type": "code",
   "execution_count": 7,
   "id": "c6944796",
   "metadata": {},
   "outputs": [
    {
     "name": "stdout",
     "output_type": "stream",
     "text": [
      "Hello\n"
     ]
    }
   ],
   "source": [
    "greeting = 'Hello'\n",
    "print(greeting)"
   ]
  },
  {
   "cell_type": "code",
   "execution_count": 8,
   "id": "5a1ab220",
   "metadata": {},
   "outputs": [
    {
     "data": {
      "text/plain": [
       "'Hello'"
      ]
     },
     "execution_count": 8,
     "metadata": {},
     "output_type": "execute_result"
    }
   ],
   "source": [
    "greeting"
   ]
  },
  {
   "cell_type": "code",
   "execution_count": 9,
   "id": "b3788ab0",
   "metadata": {},
   "outputs": [],
   "source": [
    "spanish_greeting = 'Hola.'\n",
    "\n",
    "spanish_greeting\n",
    "\n",
    "arabic_greeting = 'Ahlan wa sahlan'"
   ]
  },
  {
   "cell_type": "code",
   "execution_count": 13,
   "id": "6ce946b1",
   "metadata": {},
   "outputs": [
    {
     "name": "stdout",
     "output_type": "stream",
     "text": [
      "Hola\n"
     ]
    }
   ],
   "source": [
    "spanish_greeting = 'Hola'\n",
    "\n",
    "print(spanish_greeting)"
   ]
  },
  {
   "cell_type": "code",
   "execution_count": 11,
   "id": "11db3bcf",
   "metadata": {},
   "outputs": [
    {
     "name": "stdout",
     "output_type": "stream",
     "text": [
      "Ahlan wa sahlan\n"
     ]
    }
   ],
   "source": [
    "arabic_greeting = 'Ahlan wa sahlan'\n",
    "\n",
    "print(arabic_greeting)"
   ]
  },
  {
   "cell_type": "markdown",
   "id": "c613c499",
   "metadata": {},
   "source": [
    "## Excercise 4"
   ]
  },
  {
   "cell_type": "code",
   "execution_count": 14,
   "id": "9547ff2e",
   "metadata": {},
   "outputs": [
    {
     "name": "stdout",
     "output_type": "stream",
     "text": [
      "HolaSenor\n"
     ]
    }
   ],
   "source": [
    "print(spanish_greeting + 'Senor')"
   ]
  },
  {
   "cell_type": "code",
   "execution_count": 15,
   "id": "23b90db7",
   "metadata": {},
   "outputs": [
    {
     "name": "stdout",
     "output_type": "stream",
     "text": [
      "Hola Senor\n"
     ]
    }
   ],
   "source": [
    "print(spanish_greeting + ' Senor')"
   ]
  },
  {
   "cell_type": "code",
   "execution_count": 16,
   "id": "c535a622",
   "metadata": {},
   "outputs": [
    {
     "name": "stdout",
     "output_type": "stream",
     "text": [
      "HelloHelloHelloHelloHello\n"
     ]
    }
   ],
   "source": [
    "greeting = 'Hello'\n",
    "print(greeting*5)"
   ]
  },
  {
   "cell_type": "markdown",
   "id": "eb3c30e1",
   "metadata": {},
   "source": [
    "## Excercise 5"
   ]
  },
  {
   "cell_type": "code",
   "execution_count": 17,
   "id": "70a16997",
   "metadata": {},
   "outputs": [],
   "source": [
    "name = 'Divyansh'"
   ]
  },
  {
   "cell_type": "code",
   "execution_count": 19,
   "id": "dfabca0e",
   "metadata": {},
   "outputs": [
    {
     "data": {
      "text/plain": [
       "'divyansh'"
      ]
     },
     "execution_count": 19,
     "metadata": {},
     "output_type": "execute_result"
    }
   ],
   "source": [
    "name.lower()"
   ]
  },
  {
   "cell_type": "code",
   "execution_count": 20,
   "id": "2b6d43ef",
   "metadata": {},
   "outputs": [
    {
     "data": {
      "text/plain": [
       "'Divyansh'"
      ]
     },
     "execution_count": 20,
     "metadata": {},
     "output_type": "execute_result"
    }
   ],
   "source": [
    "name.capitalize()"
   ]
  },
  {
   "cell_type": "code",
   "execution_count": 21,
   "id": "ab6bbda9",
   "metadata": {},
   "outputs": [
    {
     "data": {
      "text/plain": [
       "'DIVYANSH'"
      ]
     },
     "execution_count": 21,
     "metadata": {},
     "output_type": "execute_result"
    }
   ],
   "source": [
    "name.upper()"
   ]
  },
  {
   "cell_type": "code",
   "execution_count": 22,
   "id": "fbad08d2",
   "metadata": {},
   "outputs": [
    {
     "data": {
      "text/plain": [
       "1"
      ]
     },
     "execution_count": 22,
     "metadata": {},
     "output_type": "execute_result"
    }
   ],
   "source": [
    "name.count('i')"
   ]
  },
  {
   "cell_type": "markdown",
   "id": "4ef59347",
   "metadata": {},
   "source": [
    "## Excercise 6"
   ]
  },
  {
   "cell_type": "code",
   "execution_count": 24,
   "id": "3d778b3a",
   "metadata": {},
   "outputs": [
    {
     "data": {
      "text/plain": [
       "'Hello'"
      ]
     },
     "execution_count": 24,
     "metadata": {},
     "output_type": "execute_result"
    }
   ],
   "source": [
    "'Hello , world!'[1]\n",
    "'Hello, world!'[0:5]"
   ]
  },
  {
   "cell_type": "code",
   "execution_count": 26,
   "id": "13f65377",
   "metadata": {},
   "outputs": [
    {
     "data": {
      "text/plain": [
       "'ello Wor'"
      ]
     },
     "execution_count": 26,
     "metadata": {},
     "output_type": "execute_result"
    }
   ],
   "source": [
    "'Hello World'[1:9]"
   ]
  },
  {
   "cell_type": "code",
   "execution_count": 27,
   "id": "cab023ac",
   "metadata": {},
   "outputs": [
    {
     "data": {
      "text/plain": [
       "'lo World'"
      ]
     },
     "execution_count": 27,
     "metadata": {},
     "output_type": "execute_result"
    }
   ],
   "source": [
    "'Hello World'[3:]"
   ]
  },
  {
   "cell_type": "markdown",
   "id": "8e8f76cc",
   "metadata": {},
   "source": [
    "## Excercise 7"
   ]
  },
  {
   "cell_type": "code",
   "execution_count": 29,
   "id": "b7483921",
   "metadata": {},
   "outputs": [
    {
     "data": {
      "text/plain": [
       "str"
      ]
     },
     "execution_count": 29,
     "metadata": {},
     "output_type": "execute_result"
    }
   ],
   "source": [
    "type('5')"
   ]
  },
  {
   "cell_type": "code",
   "execution_count": 30,
   "id": "66b49438",
   "metadata": {},
   "outputs": [
    {
     "data": {
      "text/plain": [
       "'57'"
      ]
     },
     "execution_count": 30,
     "metadata": {},
     "output_type": "execute_result"
    }
   ],
   "source": [
    "'5'+'7'"
   ]
  },
  {
   "cell_type": "code",
   "execution_count": 31,
   "id": "62682cad",
   "metadata": {},
   "outputs": [
    {
     "data": {
      "text/plain": [
       "5"
      ]
     },
     "execution_count": 31,
     "metadata": {},
     "output_type": "execute_result"
    }
   ],
   "source": [
    "int('5')"
   ]
  },
  {
   "cell_type": "code",
   "execution_count": 32,
   "id": "064f0059",
   "metadata": {},
   "outputs": [
    {
     "data": {
      "text/plain": [
       "12"
      ]
     },
     "execution_count": 32,
     "metadata": {},
     "output_type": "execute_result"
    }
   ],
   "source": [
    "int('5')+int('7')"
   ]
  },
  {
   "cell_type": "markdown",
   "id": "e4858ce3",
   "metadata": {},
   "source": [
    "## Excercise 8"
   ]
  },
  {
   "cell_type": "code",
   "execution_count": 34,
   "id": "0b203f6a",
   "metadata": {},
   "outputs": [
    {
     "name": "stdout",
     "output_type": "stream",
     "text": [
      "The Least Common Multiple of 24 and 36 is 72\n"
     ]
    }
   ],
   "source": [
    "a = 24 \n",
    "b = 36\n",
    "\n",
    "count = True\n",
    "i =1\n",
    "\n",
    "while count:\n",
    "    if i%a == 0 and i%b == 0:\n",
    "        break\n",
    "    else:\n",
    "        i+=1\n",
    "\n",
    "print(f'The Least Common Multiple of {a} and {b} is {i}')\n",
    "\n"
   ]
  },
  {
   "cell_type": "markdown",
   "id": "04741238",
   "metadata": {},
   "source": [
    "## Excercise 9"
   ]
  },
  {
   "cell_type": "code",
   "execution_count": 40,
   "id": "d96acac1",
   "metadata": {},
   "outputs": [
    {
     "name": "stdout",
     "output_type": "stream",
     "text": [
      "The square root of 36 is 6\n"
     ]
    }
   ],
   "source": [
    "number = int(input('Enter a number to see if it\\'s perfect square' ))\n",
    "\n",
    "number = abs(number)\n",
    "\n",
    "i = -1\n",
    "square = False\n",
    "\n",
    "while i <= number**(0.5):\n",
    "    i +=1\n",
    "    if i*i == number:\n",
    "        square = True\n",
    "        break\n",
    "if square:\n",
    "    print(f\"The square root of {number} is {i}\")\n",
    "else:\n",
    "        print(f\"The {number} is not a perfect square\")\n"
   ]
  },
  {
   "cell_type": "markdown",
   "id": "31c60938",
   "metadata": {},
   "source": [
    "## Excercise 10"
   ]
  },
  {
   "cell_type": "code",
   "execution_count": 41,
   "id": "221ae6c8",
   "metadata": {},
   "outputs": [
    {
     "name": "stdout",
     "output_type": "stream",
     "text": [
      "I\n",
      "I\n",
      "S\n",
      "E\n",
      "R\n",
      "B\n"
     ]
    }
   ],
   "source": [
    "for i in 'IISERB':\n",
    "    print(i)"
   ]
  },
  {
   "cell_type": "code",
   "execution_count": 42,
   "id": "b26a4911",
   "metadata": {},
   "outputs": [
    {
     "name": "stdout",
     "output_type": "stream",
     "text": [
      "1\n",
      "2\n",
      "3\n",
      "4\n",
      "5\n",
      "6\n",
      "7\n",
      "8\n",
      "9\n"
     ]
    }
   ],
   "source": [
    " for i in range(1,10):\n",
    "    print(i)"
   ]
  },
  {
   "cell_type": "code",
   "execution_count": 43,
   "id": "23becfd9",
   "metadata": {},
   "outputs": [
    {
     "name": "stdout",
     "output_type": "stream",
     "text": [
      "0\n",
      "1\n",
      "2\n",
      "3\n",
      "4\n",
      "5\n",
      "6\n",
      "7\n",
      "8\n",
      "9\n"
     ]
    }
   ],
   "source": [
    "for i in range(10):\n",
    "    print(i)"
   ]
  },
  {
   "cell_type": "code",
   "execution_count": 47,
   "id": "5d8c22a7",
   "metadata": {},
   "outputs": [
    {
     "name": "stdout",
     "output_type": "stream",
     "text": [
      "1\n",
      "3\n",
      "5\n",
      "7\n",
      "9\n"
     ]
    }
   ],
   "source": [
    "for i in range(1,10,2):\n",
    "    print(i)"
   ]
  },
  {
   "cell_type": "code",
   "execution_count": 56,
   "id": "35a79f17",
   "metadata": {},
   "outputs": [
    {
     "name": "stdout",
     "output_type": "stream",
     "text": [
      "3\n",
      "2\n",
      "1\n"
     ]
    }
   ],
   "source": [
    "for i in range(3,0,-1):\n",
    "    print(i)"
   ]
  },
  {
   "cell_type": "code",
   "execution_count": 57,
   "id": "a1d57b19",
   "metadata": {},
   "outputs": [
    {
     "name": "stdout",
     "output_type": "stream",
     "text": [
      "B\n",
      "h\n",
      "o\n",
      "p\n",
      "a\n",
      "l\n",
      "B\n",
      "h\n",
      "o\n",
      "p\n",
      "a\n",
      "l\n",
      "B\n",
      "h\n",
      "o\n",
      "p\n",
      "a\n",
      "l\n"
     ]
    }
   ],
   "source": [
    "city = 'Bhopal'\n",
    "\n",
    "for i in range(3):\n",
    "    for i in city:\n",
    "        print(i)"
   ]
  },
  {
   "cell_type": "code",
   "execution_count": null,
   "id": "ea73a65d",
   "metadata": {},
   "outputs": [],
   "source": []
  }
 ],
 "metadata": {
  "kernelspec": {
   "display_name": "Python 3.9.12 ('base')",
   "language": "python",
   "name": "python3"
  },
  "language_info": {
   "codemirror_mode": {
    "name": "ipython",
    "version": 3
   },
   "file_extension": ".py",
   "mimetype": "text/x-python",
   "name": "python",
   "nbconvert_exporter": "python",
   "pygments_lexer": "ipython3",
   "version": "3.9.12"
  },
  "vscode": {
   "interpreter": {
    "hash": "d9ed092cfeaff604a098ff2afb04d2ee50e9267317629f92888a63f6b243dd3a"
   }
  }
 },
 "nbformat": 4,
 "nbformat_minor": 5
}
