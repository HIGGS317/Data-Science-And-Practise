{
 "cells": [
  {
   "cell_type": "markdown",
   "id": "65878f6d",
   "metadata": {},
   "source": [
    "### This Notebook has got two parts. \n",
    "### You may want to work on the Part I first, which is at the bottom of this page. \n",
    "### Then come back to the Part II  in the top."
   ]
  },
  {
   "cell_type": "markdown",
   "id": "da53da37",
   "metadata": {},
   "source": [
    "# Part II Problem Exercises\n",
    "\n",
    "the next four shells are just a warm up!"
   ]
  },
  {
   "cell_type": "code",
   "execution_count": 43,
   "id": "38c864ad",
   "metadata": {},
   "outputs": [],
   "source": [
    "# to define a function in Python, we use the keyword \"def\" (short for \"define\")\n",
    "\n",
    "def hello():\n",
    "    print('Hello out there!')"
   ]
  },
  {
   "cell_type": "code",
   "execution_count": 44,
   "id": "a9947035",
   "metadata": {},
   "outputs": [
    {
     "name": "stdout",
     "output_type": "stream",
     "text": [
      "Hello out there!\n"
     ]
    }
   ],
   "source": [
    "hello()     # here, I'm calling the \"hello\" function"
   ]
  },
  {
   "cell_type": "code",
   "execution_count": 45,
   "id": "d81985b8",
   "metadata": {},
   "outputs": [],
   "source": [
    "def hello():\n",
    "    name = input('Enter your name: ').strip()\n",
    "    print(f'Hello, {name}!')"
   ]
  },
  {
   "cell_type": "code",
   "execution_count": 46,
   "id": "26f1ea2f",
   "metadata": {},
   "outputs": [
    {
     "name": "stdout",
     "output_type": "stream",
     "text": [
      "Hello, Divyansh!\n"
     ]
    }
   ],
   "source": [
    "hello()"
   ]
  },
  {
   "cell_type": "markdown",
   "id": "82305f37",
   "metadata": {},
   "source": [
    "# Exercise: Hello\n",
    "\n",
    " - Write a hello function\n",
    " - Ask the user to enter the name\n",
    " - Ask the user to enter how many times the name to be printed\n",
    " - Use a for loop to print that many number of times the name."
   ]
  },
  {
   "cell_type": "code",
   "execution_count": 51,
   "id": "8f888248",
   "metadata": {},
   "outputs": [],
   "source": [
    "# -- ENTER YOUR CODE HERE ----\n",
    "\n",
    "def hello():\n",
    "    name = input('Enter Your Name')\n",
    "    times = int(input('Enter no. of times you want to be greeted'))\n",
    "\n",
    "    for i in range(times):\n",
    "        print(f'Hello! {name}')"
   ]
  },
  {
   "cell_type": "code",
   "execution_count": 52,
   "id": "fdc03fc9",
   "metadata": {},
   "outputs": [
    {
     "name": "stdout",
     "output_type": "stream",
     "text": [
      "Hello! Divyansh\n",
      "Hello! Divyansh\n",
      "Hello! Divyansh\n",
      "Hello! Divyansh\n",
      "Hello! Divyansh\n"
     ]
    }
   ],
   "source": [
    "# example output\n",
    "\n",
    "hello()"
   ]
  },
  {
   "cell_type": "markdown",
   "id": "a844cc42",
   "metadata": {},
   "source": [
    "# Exercise: Calculator\n",
    "\n",
    "1. Write a function, `calc`, which will allow us to perform some simple calculations.\n",
    "2. Ask the user to enter a math expression in one line (e.g., `'2 + 2'`).\n",
    "3. Use `str.split` to break that input into a list of three elements. (Let's assume that the user enters a valid string, with numbers and an operator between them.)\n",
    "4. If the user entered `+`, print the result of adding the numbers.\n",
    "5. If the user entered `-`, print the result of subtracting the numbers.\n",
    "\n",
    "Example:\n",
    "\n",
    "    calc()\n",
    "\n",
    "    Enter an expression: 10 + 8\n",
    "    10 + 8 = 18    \n",
    "\n",
    "Hints/reminders:\n",
    "1. Any string can be split on whitespace with `s.split()` -- no argument means that we'll split on any whitespace, of any length.\n",
    "2. Remember that the result of `str.split` is a list of strings.\n",
    "3. If you need to turn a string into an integer, use `int`."
   ]
  },
  {
   "cell_type": "code",
   "execution_count": 59,
   "id": "5b0467cd",
   "metadata": {},
   "outputs": [],
   "source": [
    "# -- ENTER YOUR CODE HERE ----\n",
    "\n",
    "def calc():\n",
    "    a = input(\"Enter an expression to evaluate\")\n",
    "    a.split()\n",
    "    if a[1]=='+':\n",
    "        return int(a[0])+int(a[2])\n",
    "    elif a[1]=='-':\n",
    "        return int(a[0])+int(a[2])"
   ]
  },
  {
   "cell_type": "code",
   "execution_count": 56,
   "id": "565d4fc7",
   "metadata": {},
   "outputs": [
    {
     "data": {
      "text/plain": [
       "10"
      ]
     },
     "execution_count": 56,
     "metadata": {},
     "output_type": "execute_result"
    }
   ],
   "source": [
    "calc() # example output"
   ]
  },
  {
   "cell_type": "markdown",
   "id": "8a9bc335",
   "metadata": {},
   "source": [
    "# Exercise: `mysum`\n",
    "\n",
    "1. Python comes with a `sum` function, which takes a list or tuple of numbers, and returns the sum of those numbers. \n",
    "2. I want you to write a similar function, `mysum`, which takes a list or tuple of numbers, and prints the sum of those numbers.\n",
    "3. *DO NOT* use `sum` when writing `mysum`.\n",
    "\n",
    "Example:\n",
    "\n",
    "    mysum([10, 20, 30])   # should print 60\n",
    "    mysum((100, 200))     # should print 300\n"
   ]
  },
  {
   "cell_type": "code",
   "execution_count": 26,
   "id": "eecca62a",
   "metadata": {},
   "outputs": [],
   "source": [
    "# -- ENTER YOUR CODE HERE ----\n",
    "def mysum(a):\n",
    "    sums = 0\n",
    "    for element in a:\n",
    "        sums += element\n",
    "    return sums"
   ]
  },
  {
   "cell_type": "code",
   "execution_count": 93,
   "id": "a3e4785d",
   "metadata": {},
   "outputs": [
    {
     "data": {
      "text/plain": [
       "60"
      ]
     },
     "execution_count": 93,
     "metadata": {},
     "output_type": "execute_result"
    }
   ],
   "source": [
    "mysum([10, 20,30]) # example output"
   ]
  },
  {
   "cell_type": "code",
   "execution_count": 94,
   "id": "706f8948",
   "metadata": {},
   "outputs": [
    {
     "data": {
      "text/plain": [
       "1018"
      ]
     },
     "execution_count": 94,
     "metadata": {},
     "output_type": "execute_result"
    }
   ],
   "source": [
    "mysum([100, 200, 300, 400, 18])       # example output"
   ]
  },
  {
   "cell_type": "markdown",
   "id": "541c22f1",
   "metadata": {},
   "source": [
    "# Exercise: min and max\n",
    "\n",
    "1. Write a function, `min_and_max`, that takes a list of numbers as an argument.\n",
    "2. The output from the function will be a two-element list, in which the first is the smallest number in the input, and the second is the largest number in the input.\n",
    "3. Return this list from the function.\n",
    "\n",
    "```python\n",
    "min_and_max([100, 50, 75, 20, 80])   # [20, 100]\n",
    "min_and_max([5])                     # [5, 5]\n",
    "```\n",
    "\n",
    "There are `min` and `max` functions in Python. Don't use them! Instead, use a `for` loop to iterate over the input list/tuple."
   ]
  },
  {
   "cell_type": "code",
   "execution_count": 97,
   "id": "04a70b87",
   "metadata": {},
   "outputs": [],
   "source": [
    "# -- ENTER YOUR CODE HERE ----\n",
    "def min_and_max (x):\n",
    "    # this function fails if the list length is 0 \n",
    "    minimum = maximum = x[0]\n",
    "    for i in x[1:]:\n",
    "        if i < minimum: \n",
    "            minimum = i \n",
    "        else: \n",
    "            if i > maximum: maximum = i\n",
    "    return (minimum,maximum)\n"
   ]
  },
  {
   "cell_type": "code",
   "execution_count": 98,
   "id": "c88fa055",
   "metadata": {},
   "outputs": [
    {
     "data": {
      "text/plain": [
       "(20, 100)"
      ]
     },
     "execution_count": 98,
     "metadata": {},
     "output_type": "execute_result"
    }
   ],
   "source": [
    "min_and_max([100, 50, 75, 20, 80])   # example output"
   ]
  },
  {
   "cell_type": "code",
   "execution_count": 100,
   "id": "234f1f0b",
   "metadata": {
    "scrolled": true
   },
   "outputs": [
    {
     "data": {
      "text/plain": [
       "(5, 5)"
      ]
     },
     "execution_count": 100,
     "metadata": {},
     "output_type": "execute_result"
    }
   ],
   "source": [
    "min_and_max([5])    # example output"
   ]
  },
  {
   "cell_type": "markdown",
   "id": "860c961e",
   "metadata": {},
   "source": [
    "# Exercise: Fibonacci sequence\n",
    "\n",
    "You work in an IT firm, and your colleague has realized that being able to quickly compute elements of the Fibonacci sequence will reduce the time taken to execute the testing suite on one of your internal applications. You will use an iterative approach to create a fibonacci_iterative function that returns the nth value in the Fibonacci sequence.\n",
    "\n",
    "Define a fibonacci_iterative function that takes a single positional argument representing which number term in the sequence you want to return."
   ]
  },
  {
   "cell_type": "markdown",
   "id": "3e77dc5c",
   "metadata": {},
   "source": [
    "The Fibonacci Sequence is the series of numbers:\n",
    "\n",
    "0, 1, 1, 2, 3, 5, 8, 13, 21, 34, ...\n",
    "\n",
    "The next number is found by adding up the two numbers before it:\n",
    "\n",
    "- the 2 is found by adding the two numbers before it (1+1),\n",
    "- the 3 is found by adding the two numbers before it (1+2),\n",
    "- the 5 is (2+3),\n",
    "- and so on!"
   ]
  },
  {
   "attachments": {
    "fibonaccisequence.jpg": {
     "image/jpeg": "[encoded data removed]"
    }
   },
   "cell_type": "markdown",
   "id": "930ae8d7",
   "metadata": {},
   "source": [
    "![fibonaccisequence.jpg](attachment:fibonaccisequence.jpg)"
   ]
  },
  {
   "cell_type": "markdown",
   "id": "ce0ba8d4",
   "metadata": {},
   "source": [
    "I assume, many of you would have learnt or heard about this. If not, this is not a difficult one to learn from the internet. Write a Python code for calculation the same, with the user input on \"number of terms\". No restriction on learning and referring from the web. "
   ]
  },
  {
   "cell_type": "code",
   "execution_count": 2,
   "id": "973bcd55",
   "metadata": {},
   "outputs": [],
   "source": [
    " def fibonacci_iterative(n):\n",
    "    if n<= 0:\n",
    "        print(\"Incorrect input\")\n",
    "    # First Fibonacci number is 0\n",
    "    elif n == 1:\n",
    "        return 0\n",
    "    # Second Fibonacci number is 1\n",
    "    elif n == 2:\n",
    "        return 1\n",
    "    else:\n",
    "        return fibonacci_iterative(n-1)+fibonacci_iterative(n-2)"
   ]
  },
  {
   "cell_type": "code",
   "execution_count": 3,
   "id": "171755a6",
   "metadata": {},
   "outputs": [
    {
     "name": "stdout",
     "output_type": "stream",
     "text": [
      "34\n"
     ]
    }
   ],
   "source": [
    "print(fibonacci_iterative(10))"
   ]
  },
  {
   "cell_type": "markdown",
   "id": "0a76cc32",
   "metadata": {},
   "source": [
    "# Part I Practice Exercises\n",
    "\n",
    "### To make things easier, first work on the Practice Exercises given in the pdf file and enter them in cells below."
   ]
  },
  {
   "cell_type": "markdown",
   "id": "e49930fe",
   "metadata": {},
   "source": [
    "## Excercise 1"
   ]
  },
  {
   "cell_type": "code",
   "execution_count": 1,
   "id": "f2242327",
   "metadata": {},
   "outputs": [],
   "source": [
    "def get_second_element(mylist):\n",
    "    if len(mylist) > 1:\n",
    "            return mylist[1]\n",
    "    else:\n",
    "        return 'List was too small'"
   ]
  },
  {
   "cell_type": "code",
   "execution_count": 2,
   "id": "4396a95a",
   "metadata": {},
   "outputs": [
    {
     "data": {
      "text/plain": [
       "6"
      ]
     },
     "execution_count": 2,
     "metadata": {},
     "output_type": "execute_result"
    }
   ],
   "source": [
    "get_second_element([5,6,7])"
   ]
  },
  {
   "cell_type": "code",
   "execution_count": 4,
   "id": "4ba6b491",
   "metadata": {},
   "outputs": [
    {
     "data": {
      "text/plain": [
       "'List was too small'"
      ]
     },
     "execution_count": 4,
     "metadata": {},
     "output_type": "execute_result"
    }
   ],
   "source": [
    "get_second_element([10])"
   ]
  },
  {
   "cell_type": "markdown",
   "id": "88297be2",
   "metadata": {},
   "source": [
    "## Excercise 2"
   ]
  },
  {
   "cell_type": "markdown",
   "id": "c64965ce",
   "metadata": {},
   "source": [
    "![/home/dt/Documents/Tutorials/IISERB_DSP/Screenshot from 2022-08-27 15-07-07.png]()"
   ]
  },
  {
   "cell_type": "markdown",
   "id": "16a29a66",
   "metadata": {},
   "source": [
    "## Excercise 3"
   ]
  },
  {
   "cell_type": "code",
   "execution_count": 5,
   "id": "838221ff",
   "metadata": {},
   "outputs": [],
   "source": [
    "from multiple import list_product"
   ]
  },
  {
   "cell_type": "code",
   "execution_count": 6,
   "id": "238c5f87",
   "metadata": {},
   "outputs": [
    {
     "data": {
      "text/plain": [
       "-6"
      ]
     },
     "execution_count": 6,
     "metadata": {},
     "output_type": "execute_result"
    }
   ],
   "source": [
    "list_product([-1,2,3])"
   ]
  },
  {
   "cell_type": "markdown",
   "id": "0f932d17",
   "metadata": {},
   "source": [
    "## Excercise 4"
   ]
  },
  {
   "cell_type": "code",
   "execution_count": 7,
   "id": "3f4a8d7a",
   "metadata": {},
   "outputs": [],
   "source": [
    "def add_suffix(suffix='.com'):\n",
    "    return 'google' + suffix"
   ]
  },
  {
   "cell_type": "code",
   "execution_count": 8,
   "id": "8329c094",
   "metadata": {},
   "outputs": [
    {
     "data": {
      "text/plain": [
       "'google.com'"
      ]
     },
     "execution_count": 8,
     "metadata": {},
     "output_type": "execute_result"
    }
   ],
   "source": [
    "add_suffix()"
   ]
  },
  {
   "cell_type": "code",
   "execution_count": 9,
   "id": "4c82298d",
   "metadata": {},
   "outputs": [
    {
     "data": {
      "text/plain": [
       "'google.co.uk'"
      ]
     },
     "execution_count": 9,
     "metadata": {},
     "output_type": "execute_result"
    }
   ],
   "source": [
    "add_suffix('.co.uk')"
   ]
  },
  {
   "cell_type": "markdown",
   "id": "2282d8c1",
   "metadata": {},
   "source": [
    "## Excercise 5"
   ]
  },
  {
   "cell_type": "code",
   "execution_count": 10,
   "id": "fd8a9224",
   "metadata": {},
   "outputs": [],
   "source": [
    "def convert_usd_to_inr(amount, value=75):\n",
    "    return amount * value"
   ]
  },
  {
   "cell_type": "code",
   "execution_count": 11,
   "id": "bcb28921",
   "metadata": {},
   "outputs": [
    {
     "data": {
      "text/plain": [
       "7500"
      ]
     },
     "execution_count": 11,
     "metadata": {},
     "output_type": "execute_result"
    }
   ],
   "source": [
    "convert_usd_to_inr(100)"
   ]
  },
  {
   "cell_type": "code",
   "execution_count": 17,
   "id": "92f2c5a5",
   "metadata": {},
   "outputs": [
    {
     "data": {
      "text/plain": [
       "7800"
      ]
     },
     "execution_count": 17,
     "metadata": {},
     "output_type": "execute_result"
    }
   ],
   "source": [
    "convert_usd_to_inr(amount = 100,value=78)"
   ]
  },
  {
   "cell_type": "markdown",
   "id": "a99e3960",
   "metadata": {},
   "source": [
    "## Excercise 6"
   ]
  },
  {
   "cell_type": "code",
   "execution_count": 18,
   "id": "f0353de4",
   "metadata": {},
   "outputs": [],
   "source": [
    "def convert_usd_to_aud(amount, rate=0.75):\n",
    "    return amount / rate"
   ]
  },
  {
   "cell_type": "code",
   "execution_count": 19,
   "id": "62a2a830",
   "metadata": {},
   "outputs": [
    {
     "name": "stdout",
     "output_type": "stream",
     "text": [
      "5.333333333333333\n"
     ]
    }
   ],
   "source": [
    "def convert_and_sum_list(usd_list, rate=0.75):\n",
    "    total = 0\n",
    "    for amount in usd_list:\n",
    "        total += convert_usd_to_aud(amount,rate=rate)\n",
    "    return total\n",
    "print(convert_and_sum_list([1, 3]))"
   ]
  },
  {
   "cell_type": "code",
   "execution_count": 20,
   "id": "165bf870",
   "metadata": {},
   "outputs": [
    {
     "name": "stdout",
     "output_type": "stream",
     "text": [
      "5.0\n"
     ]
    }
   ],
   "source": [
    "def convert_and_sum_list_kwargs(usd_list, **kwargs):\n",
    "    total = 0\n",
    "    for amount in usd_list:\n",
    "        total += convert_usd_to_aud(amount, **kwargs)\n",
    "    return total\n",
    "print(convert_and_sum_list_kwargs([1, 3], rate=0.8))"
   ]
  },
  {
   "cell_type": "markdown",
   "id": "5a2cd5f1",
   "metadata": {},
   "source": [
    "## Excercise 7"
   ]
  },
  {
   "cell_type": "code",
   "execution_count": 9,
   "id": "864e21fa",
   "metadata": {},
   "outputs": [],
   "source": [
    "def format_customer(first_name,last_name,location = None):\n",
    "  full_name = '%s %s' % (first, last)\n",
    "  if location:\n",
    "        return '%s (%s)' %(first_name,location)\n",
    "  else:\n",
    "       return first_name"
   ]
  },
  {
   "cell_type": "code",
   "execution_count": 42,
   "id": "b15c32c4",
   "metadata": {},
   "outputs": [],
   "source": []
  }
 ],
 "metadata": {
  "kernelspec": {
   "display_name": "Python 3.9.12 ('base')",
   "language": "python",
   "name": "python3"
  },
  "language_info": {
   "codemirror_mode": {
    "name": "ipython",
    "version": 3
   },
   "file_extension": ".py",
   "mimetype": "text/x-python",
   "name": "python",
   "nbconvert_exporter": "python",
   "pygments_lexer": "ipython3",
   "version": "3.9.12"
  },
  "vscode": {
   "interpreter": {
    "hash": "d9ed092cfeaff604a098ff2afb04d2ee50e9267317629f92888a63f6b243dd3a"
   }
  }
 },
 "nbformat": 4,
 "nbformat_minor": 5
}
